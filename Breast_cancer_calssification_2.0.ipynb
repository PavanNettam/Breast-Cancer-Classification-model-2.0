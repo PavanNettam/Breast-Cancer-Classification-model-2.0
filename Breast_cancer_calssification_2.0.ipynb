{
  "nbformat": 4,
  "nbformat_minor": 0,
  "metadata": {
    "colab": {
      "name": "Breast_cancer_calssification_updated.ipynb",
      "provenance": [],
      "collapsed_sections": []
    },
    "kernelspec": {
      "name": "python3",
      "display_name": "Python 3"
    }
  },
  "cells": [
    {
      "cell_type": "markdown",
      "metadata": {
        "id": "Q8X8xDwS6vgS"
      },
      "source": [
        "# Logistic Regression for classifying Breast cancer into MALIGNENT or BENIGN\n",
        "\n"
      ]
    },
    {
      "cell_type": "markdown",
      "metadata": {
        "id": "PEGG4I6n60cM"
      },
      "source": [
        "## Importing the libraries"
      ]
    },
    {
      "cell_type": "code",
      "source": [
        "import numpy as np\n",
        "import pandas as pd\n",
        "import matplotlib.pyplot as plt"
      ],
      "metadata": {
        "id": "_wV7pmECJF9K"
      },
      "execution_count": 1,
      "outputs": []
    },
    {
      "cell_type": "markdown",
      "metadata": {
        "id": "Aa536pRY7Eq5"
      },
      "source": [
        "## Importing the dataset"
      ]
    },
    {
      "cell_type": "code",
      "source": [
        "dataset = pd.read_csv('data.csv')\n",
        "X = dataset.iloc[ : ,2:-2].values\n",
        "y = dataset.iloc[ : ,1].values"
      ],
      "metadata": {
        "id": "_x-_lhFjJNAL"
      },
      "execution_count": 7,
      "outputs": []
    },
    {
      "cell_type": "code",
      "source": [
        "print(X)"
      ],
      "metadata": {
        "colab": {
          "base_uri": "https://localhost:8080/"
        },
        "id": "NuAy-M6DJ3K0",
        "outputId": "12b7dcdf-f820-4557-e4ce-dc09d56c1cea"
      },
      "execution_count": 8,
      "outputs": [
        {
          "output_type": "stream",
          "name": "stdout",
          "text": [
            "[[ 17.99    10.38   122.8    ...   0.7119   0.2654   0.4601]\n",
            " [ 20.57    17.77   132.9    ...   0.2416   0.186    0.275 ]\n",
            " [ 19.69    21.25   130.     ...   0.4504   0.243    0.3613]\n",
            " ...\n",
            " [ 16.6     28.08   108.3    ...   0.3403   0.1418   0.2218]\n",
            " [ 20.6     29.33   140.1    ...   0.9387   0.265    0.4087]\n",
            " [  7.76    24.54    47.92   ...   0.       0.       0.2871]]\n"
          ]
        }
      ]
    },
    {
      "cell_type": "code",
      "source": [
        "print(y)"
      ],
      "metadata": {
        "colab": {
          "base_uri": "https://localhost:8080/"
        },
        "id": "zj-Q6uH3J4q0",
        "outputId": "1ef1b5a8-0ff1-495b-8289-fd5e3578dfa1"
      },
      "execution_count": 9,
      "outputs": [
        {
          "output_type": "stream",
          "name": "stdout",
          "text": [
            "['M' 'M' 'M' 'M' 'M' 'M' 'M' 'M' 'M' 'M' 'M' 'M' 'M' 'M' 'M' 'M' 'M' 'M'\n",
            " 'M' 'B' 'B' 'B' 'M' 'M' 'M' 'M' 'M' 'M' 'M' 'M' 'M' 'M' 'M' 'M' 'M' 'M'\n",
            " 'M' 'B' 'M' 'M' 'M' 'M' 'M' 'M' 'M' 'M' 'B' 'M' 'B' 'B' 'B' 'B' 'B' 'M'\n",
            " 'M' 'B' 'M' 'M' 'B' 'B' 'B' 'B' 'M' 'B' 'M' 'M' 'B' 'B' 'B' 'B' 'M' 'B'\n",
            " 'M' 'M' 'B' 'M' 'B' 'M' 'M' 'B' 'B' 'B' 'M' 'M' 'B' 'M' 'M' 'M' 'B' 'B'\n",
            " 'B' 'M' 'B' 'B' 'M' 'M' 'B' 'B' 'B' 'M' 'M' 'B' 'B' 'B' 'B' 'M' 'B' 'B'\n",
            " 'M' 'B' 'B' 'B' 'B' 'B' 'B' 'B' 'B' 'M' 'M' 'M' 'B' 'M' 'M' 'B' 'B' 'B'\n",
            " 'M' 'M' 'B' 'M' 'B' 'M' 'M' 'B' 'M' 'M' 'B' 'B' 'M' 'B' 'B' 'M' 'B' 'B'\n",
            " 'B' 'B' 'M' 'B' 'B' 'B' 'B' 'B' 'B' 'B' 'B' 'B' 'M' 'B' 'B' 'B' 'B' 'M'\n",
            " 'M' 'B' 'M' 'B' 'B' 'M' 'M' 'B' 'B' 'M' 'M' 'B' 'B' 'B' 'B' 'M' 'B' 'B'\n",
            " 'M' 'M' 'M' 'B' 'M' 'B' 'M' 'B' 'B' 'B' 'M' 'B' 'B' 'M' 'M' 'B' 'M' 'M'\n",
            " 'M' 'M' 'B' 'M' 'M' 'M' 'B' 'M' 'B' 'M' 'B' 'B' 'M' 'B' 'M' 'M' 'M' 'M'\n",
            " 'B' 'B' 'M' 'M' 'B' 'B' 'B' 'M' 'B' 'B' 'B' 'B' 'B' 'M' 'M' 'B' 'B' 'M'\n",
            " 'B' 'B' 'M' 'M' 'B' 'M' 'B' 'B' 'B' 'B' 'M' 'B' 'B' 'B' 'B' 'B' 'M' 'B'\n",
            " 'M' 'M' 'M' 'M' 'M' 'M' 'M' 'M' 'M' 'M' 'M' 'M' 'M' 'M' 'B' 'B' 'B' 'B'\n",
            " 'B' 'B' 'M' 'B' 'M' 'B' 'B' 'M' 'B' 'B' 'M' 'B' 'M' 'M' 'B' 'B' 'B' 'B'\n",
            " 'B' 'B' 'B' 'B' 'B' 'B' 'B' 'B' 'B' 'M' 'B' 'B' 'M' 'B' 'M' 'B' 'B' 'B'\n",
            " 'B' 'B' 'B' 'B' 'B' 'B' 'B' 'B' 'B' 'B' 'B' 'M' 'B' 'B' 'B' 'M' 'B' 'M'\n",
            " 'B' 'B' 'B' 'B' 'M' 'M' 'M' 'B' 'B' 'B' 'B' 'M' 'B' 'M' 'B' 'M' 'B' 'B'\n",
            " 'B' 'M' 'B' 'B' 'B' 'B' 'B' 'B' 'B' 'M' 'M' 'M' 'B' 'B' 'B' 'B' 'B' 'B'\n",
            " 'B' 'B' 'B' 'B' 'B' 'M' 'M' 'B' 'M' 'M' 'M' 'B' 'M' 'M' 'B' 'B' 'B' 'B'\n",
            " 'B' 'M' 'B' 'B' 'B' 'B' 'B' 'M' 'B' 'B' 'B' 'M' 'B' 'B' 'M' 'M' 'B' 'B'\n",
            " 'B' 'B' 'B' 'B' 'M' 'B' 'B' 'B' 'B' 'B' 'B' 'B' 'M' 'B' 'B' 'B' 'B' 'B'\n",
            " 'M' 'B' 'B' 'M' 'B' 'B' 'B' 'B' 'B' 'B' 'B' 'B' 'B' 'B' 'B' 'B' 'M' 'B'\n",
            " 'M' 'M' 'B' 'M' 'B' 'B' 'B' 'B' 'B' 'M' 'B' 'B' 'M' 'B' 'M' 'B' 'B' 'M'\n",
            " 'B' 'M' 'B' 'B' 'B' 'B' 'B' 'B' 'B' 'B' 'M' 'M' 'B' 'B' 'B' 'B' 'B' 'B'\n",
            " 'M' 'B' 'B' 'B' 'B' 'B' 'B' 'B' 'B' 'B' 'B' 'M' 'B' 'B' 'B' 'B' 'B' 'B'\n",
            " 'B' 'M' 'B' 'M' 'B' 'B' 'M' 'B' 'B' 'B' 'B' 'B' 'M' 'M' 'B' 'M' 'B' 'M'\n",
            " 'B' 'B' 'B' 'B' 'B' 'M' 'B' 'B' 'M' 'B' 'M' 'B' 'M' 'M' 'B' 'B' 'B' 'M'\n",
            " 'B' 'B' 'B' 'B' 'B' 'B' 'B' 'B' 'B' 'B' 'B' 'M' 'B' 'M' 'M' 'B' 'B' 'B'\n",
            " 'B' 'B' 'B' 'B' 'B' 'B' 'B' 'B' 'B' 'B' 'B' 'B' 'B' 'B' 'B' 'B' 'B' 'B'\n",
            " 'B' 'B' 'B' 'B' 'M' 'M' 'M' 'M' 'M' 'M' 'B']\n"
          ]
        }
      ]
    },
    {
      "cell_type": "markdown",
      "source": [
        "#Checking for nan in the dataset if any\n"
      ],
      "metadata": {
        "id": "bu18istBPR1c"
      }
    },
    {
      "cell_type": "code",
      "source": [
        "dataset.isnull().sum()"
      ],
      "metadata": {
        "colab": {
          "base_uri": "https://localhost:8080/"
        },
        "id": "mg-Oo7URPYaY",
        "outputId": "758c8735-2e82-42b5-d8b3-a8970e358945"
      },
      "execution_count": 10,
      "outputs": [
        {
          "output_type": "execute_result",
          "data": {
            "text/plain": [
              "id                           0\n",
              "diagnosis                    0\n",
              "radius_mean                  0\n",
              "texture_mean                 0\n",
              "perimeter_mean               0\n",
              "area_mean                    0\n",
              "smoothness_mean              0\n",
              "compactness_mean             0\n",
              "concavity_mean               0\n",
              "concave points_mean          0\n",
              "symmetry_mean                0\n",
              "fractal_dimension_mean       0\n",
              "radius_se                    0\n",
              "texture_se                   0\n",
              "perimeter_se                 0\n",
              "area_se                      0\n",
              "smoothness_se                0\n",
              "compactness_se               0\n",
              "concavity_se                 0\n",
              "concave points_se            0\n",
              "symmetry_se                  0\n",
              "fractal_dimension_se         0\n",
              "radius_worst                 0\n",
              "texture_worst                0\n",
              "perimeter_worst              0\n",
              "area_worst                   0\n",
              "smoothness_worst             0\n",
              "compactness_worst            0\n",
              "concavity_worst              0\n",
              "concave points_worst         0\n",
              "symmetry_worst               0\n",
              "fractal_dimension_worst      0\n",
              "Unnamed: 32                569\n",
              "dtype: int64"
            ]
          },
          "metadata": {},
          "execution_count": 10
        }
      ]
    },
    {
      "cell_type": "markdown",
      "source": [
        "#Checking the necessity for feature scaling"
      ],
      "metadata": {
        "id": "22NhjnaZP5nf"
      }
    },
    {
      "cell_type": "code",
      "source": [
        "dataset.max()"
      ],
      "metadata": {
        "colab": {
          "base_uri": "https://localhost:8080/"
        },
        "id": "SeWLZvHjt_vv",
        "outputId": "01fcd222-585f-485d-f6be-8afc3237f450"
      },
      "execution_count": 11,
      "outputs": [
        {
          "output_type": "execute_result",
          "data": {
            "text/plain": [
              "id                         911320502\n",
              "diagnosis                          M\n",
              "radius_mean                    28.11\n",
              "texture_mean                   39.28\n",
              "perimeter_mean                 188.5\n",
              "area_mean                     2501.0\n",
              "smoothness_mean               0.1634\n",
              "compactness_mean              0.3454\n",
              "concavity_mean                0.4268\n",
              "concave points_mean           0.2012\n",
              "symmetry_mean                  0.304\n",
              "fractal_dimension_mean       0.09744\n",
              "radius_se                      2.873\n",
              "texture_se                     4.885\n",
              "perimeter_se                   21.98\n",
              "area_se                        542.2\n",
              "smoothness_se                0.03113\n",
              "compactness_se                0.1354\n",
              "concavity_se                   0.396\n",
              "concave points_se            0.05279\n",
              "symmetry_se                  0.07895\n",
              "fractal_dimension_se         0.02984\n",
              "radius_worst                   36.04\n",
              "texture_worst                  49.54\n",
              "perimeter_worst                251.2\n",
              "area_worst                    4254.0\n",
              "smoothness_worst              0.2226\n",
              "compactness_worst              1.058\n",
              "concavity_worst                1.252\n",
              "concave points_worst           0.291\n",
              "symmetry_worst                0.6638\n",
              "fractal_dimension_worst       0.2075\n",
              "Unnamed: 32                      NaN\n",
              "dtype: object"
            ]
          },
          "metadata": {},
          "execution_count": 11
        }
      ]
    },
    {
      "cell_type": "code",
      "source": [
        "dataset.min()"
      ],
      "metadata": {
        "colab": {
          "base_uri": "https://localhost:8080/"
        },
        "id": "_lxNCEbiuMGu",
        "outputId": "11009a2e-da4e-4cd6-df50-e3c76341c1b2"
      },
      "execution_count": 12,
      "outputs": [
        {
          "output_type": "execute_result",
          "data": {
            "text/plain": [
              "id                             8670\n",
              "diagnosis                         B\n",
              "radius_mean                   6.981\n",
              "texture_mean                   9.71\n",
              "perimeter_mean                43.79\n",
              "area_mean                     143.5\n",
              "smoothness_mean             0.05263\n",
              "compactness_mean            0.01938\n",
              "concavity_mean                  0.0\n",
              "concave points_mean             0.0\n",
              "symmetry_mean                 0.106\n",
              "fractal_dimension_mean      0.04996\n",
              "radius_se                    0.1115\n",
              "texture_se                   0.3602\n",
              "perimeter_se                  0.757\n",
              "area_se                       6.802\n",
              "smoothness_se              0.001713\n",
              "compactness_se             0.002252\n",
              "concavity_se                    0.0\n",
              "concave points_se               0.0\n",
              "symmetry_se                0.007882\n",
              "fractal_dimension_se       0.000895\n",
              "radius_worst                   7.93\n",
              "texture_worst                 12.02\n",
              "perimeter_worst               50.41\n",
              "area_worst                    185.2\n",
              "smoothness_worst            0.07117\n",
              "compactness_worst           0.02729\n",
              "concavity_worst                 0.0\n",
              "concave points_worst            0.0\n",
              "symmetry_worst               0.1565\n",
              "fractal_dimension_worst     0.05504\n",
              "Unnamed: 32                     NaN\n",
              "dtype: object"
            ]
          },
          "metadata": {},
          "execution_count": 12
        }
      ]
    },
    {
      "cell_type": "markdown",
      "source": [
        "**Conclusion:** *As all the values in the dataset lie in between 1 to 10 (except IDs which we are not using), feature scaling is not needed*"
      ],
      "metadata": {
        "id": "ZjKIKUUpuYgM"
      }
    },
    {
      "cell_type": "markdown",
      "metadata": {
        "id": "0AnzJQCj7TLO"
      },
      "source": [
        "## Splitting the dataset into the Training set and Test set"
      ]
    },
    {
      "cell_type": "code",
      "source": [
        "from sklearn.model_selection import train_test_split\n",
        "X_train,X_test,y_train,y_test = train_test_split(X,y,test_size = 0.2,random_state=0)"
      ],
      "metadata": {
        "id": "I28gBw5mvJdD"
      },
      "execution_count": 13,
      "outputs": []
    },
    {
      "cell_type": "markdown",
      "source": [
        "#Feature Scaling"
      ],
      "metadata": {
        "id": "rKjYok_NPsS-"
      }
    },
    {
      "cell_type": "code",
      "source": [
        "from sklearn.preprocessing import StandardScaler\n",
        "sc = StandardScaler()\n",
        "X_train = sc.fit_transform(X_train)\n",
        "X_test = sc.transform(X_test)"
      ],
      "metadata": {
        "id": "BJNYe5SAPrk0"
      },
      "execution_count": 15,
      "outputs": []
    },
    {
      "cell_type": "markdown",
      "metadata": {
        "id": "pS1Q-n_A7iZ_"
      },
      "source": [
        "## Training the Logistic Regression model on the Training set"
      ]
    },
    {
      "cell_type": "code",
      "source": [
        "from sklearn.linear_model import LogisticRegression\n",
        "classifier = LogisticRegression(random_state=0)\n",
        "classifier.fit(X_train,y_train)"
      ],
      "metadata": {
        "colab": {
          "base_uri": "https://localhost:8080/"
        },
        "id": "4ktn3qPqwA5g",
        "outputId": "f043ae00-ea7f-4449-ebd2-e1950b419424"
      },
      "execution_count": 16,
      "outputs": [
        {
          "output_type": "execute_result",
          "data": {
            "text/plain": [
              "LogisticRegression(random_state=0)"
            ]
          },
          "metadata": {},
          "execution_count": 16
        }
      ]
    },
    {
      "cell_type": "markdown",
      "metadata": {
        "id": "4cgD7EnB8Dnd"
      },
      "source": [
        "## Predicting the Test set results"
      ]
    },
    {
      "cell_type": "code",
      "source": [
        "y_pred = classifier.predict(X_test)"
      ],
      "metadata": {
        "id": "ilFfTJpUwe62"
      },
      "execution_count": 17,
      "outputs": []
    },
    {
      "cell_type": "code",
      "source": [
        "print(y_pred)"
      ],
      "metadata": {
        "colab": {
          "base_uri": "https://localhost:8080/"
        },
        "id": "btJGMVNkwrMV",
        "outputId": "1a755306-12b4-47a8-89f9-7efaa6795df3"
      },
      "execution_count": 18,
      "outputs": [
        {
          "output_type": "stream",
          "name": "stdout",
          "text": [
            "['M' 'B' 'B' 'B' 'B' 'B' 'B' 'B' 'B' 'B' 'B' 'B' 'B' 'M' 'B' 'M' 'B' 'M'\n",
            " 'M' 'M' 'M' 'M' 'B' 'B' 'M' 'B' 'B' 'M' 'B' 'M' 'B' 'M' 'B' 'M' 'B' 'M'\n",
            " 'B' 'M' 'B' 'M' 'M' 'B' 'M' 'B' 'B' 'M' 'B' 'B' 'B' 'M' 'M' 'M' 'M' 'B'\n",
            " 'B' 'B' 'B' 'B' 'B' 'M' 'M' 'M' 'B' 'B' 'M' 'B' 'M' 'M' 'M' 'B' 'B' 'M'\n",
            " 'B' 'M' 'M' 'B' 'B' 'B' 'B' 'B' 'M' 'M' 'M' 'B' 'M' 'B' 'B' 'B' 'M' 'M'\n",
            " 'B' 'B' 'M' 'M' 'B' 'B' 'M' 'B' 'B' 'B' 'B' 'B' 'B' 'B' 'M' 'B' 'M' 'B'\n",
            " 'B' 'B' 'B' 'M' 'M' 'B']\n"
          ]
        }
      ]
    },
    {
      "cell_type": "markdown",
      "source": [
        "#Printing the predicted values and actual test set values side by side"
      ],
      "metadata": {
        "id": "7IAM1OJM0ST2"
      }
    },
    {
      "cell_type": "code",
      "source": [
        "print(np.concatenate((y_pred.reshape(len(y_pred),1), y_test.reshape(len(y_test),1)),1))"
      ],
      "metadata": {
        "colab": {
          "base_uri": "https://localhost:8080/"
        },
        "id": "PRgjtlAqwvIe",
        "outputId": "28aa38bf-6780-4604-cf3d-da85254d21c4"
      },
      "execution_count": 19,
      "outputs": [
        {
          "output_type": "stream",
          "name": "stdout",
          "text": [
            "[['M' 'M']\n",
            " ['B' 'B']\n",
            " ['B' 'B']\n",
            " ['B' 'B']\n",
            " ['B' 'B']\n",
            " ['B' 'B']\n",
            " ['B' 'B']\n",
            " ['B' 'B']\n",
            " ['B' 'B']\n",
            " ['B' 'B']\n",
            " ['B' 'B']\n",
            " ['B' 'B']\n",
            " ['B' 'B']\n",
            " ['M' 'B']\n",
            " ['B' 'B']\n",
            " ['M' 'M']\n",
            " ['B' 'B']\n",
            " ['M' 'M']\n",
            " ['M' 'M']\n",
            " ['M' 'M']\n",
            " ['M' 'M']\n",
            " ['M' 'M']\n",
            " ['B' 'B']\n",
            " ['B' 'B']\n",
            " ['M' 'M']\n",
            " ['B' 'B']\n",
            " ['B' 'B']\n",
            " ['M' 'M']\n",
            " ['B' 'B']\n",
            " ['M' 'M']\n",
            " ['B' 'B']\n",
            " ['M' 'M']\n",
            " ['B' 'B']\n",
            " ['M' 'M']\n",
            " ['B' 'B']\n",
            " ['M' 'M']\n",
            " ['B' 'B']\n",
            " ['M' 'M']\n",
            " ['B' 'B']\n",
            " ['M' 'M']\n",
            " ['M' 'M']\n",
            " ['B' 'B']\n",
            " ['M' 'M']\n",
            " ['B' 'B']\n",
            " ['B' 'B']\n",
            " ['M' 'M']\n",
            " ['B' 'B']\n",
            " ['B' 'B']\n",
            " ['B' 'B']\n",
            " ['M' 'M']\n",
            " ['M' 'M']\n",
            " ['M' 'M']\n",
            " ['M' 'M']\n",
            " ['B' 'B']\n",
            " ['B' 'B']\n",
            " ['B' 'B']\n",
            " ['B' 'B']\n",
            " ['B' 'B']\n",
            " ['B' 'B']\n",
            " ['M' 'M']\n",
            " ['M' 'M']\n",
            " ['M' 'M']\n",
            " ['B' 'B']\n",
            " ['B' 'B']\n",
            " ['M' 'M']\n",
            " ['B' 'B']\n",
            " ['M' 'M']\n",
            " ['M' 'M']\n",
            " ['M' 'M']\n",
            " ['B' 'B']\n",
            " ['B' 'B']\n",
            " ['M' 'M']\n",
            " ['B' 'B']\n",
            " ['M' 'M']\n",
            " ['M' 'M']\n",
            " ['B' 'B']\n",
            " ['B' 'B']\n",
            " ['B' 'B']\n",
            " ['B' 'B']\n",
            " ['B' 'B']\n",
            " ['M' 'M']\n",
            " ['M' 'M']\n",
            " ['M' 'M']\n",
            " ['B' 'B']\n",
            " ['M' 'M']\n",
            " ['B' 'B']\n",
            " ['B' 'B']\n",
            " ['B' 'B']\n",
            " ['M' 'M']\n",
            " ['M' 'M']\n",
            " ['B' 'B']\n",
            " ['B' 'M']\n",
            " ['M' 'B']\n",
            " ['M' 'M']\n",
            " ['B' 'B']\n",
            " ['B' 'B']\n",
            " ['M' 'M']\n",
            " ['B' 'B']\n",
            " ['B' 'B']\n",
            " ['B' 'B']\n",
            " ['B' 'B']\n",
            " ['B' 'B']\n",
            " ['B' 'B']\n",
            " ['B' 'B']\n",
            " ['M' 'M']\n",
            " ['B' 'B']\n",
            " ['M' 'M']\n",
            " ['B' 'B']\n",
            " ['B' 'M']\n",
            " ['B' 'M']\n",
            " ['B' 'B']\n",
            " ['M' 'M']\n",
            " ['M' 'M']\n",
            " ['B' 'B']]\n"
          ]
        }
      ]
    },
    {
      "cell_type": "markdown",
      "metadata": {
        "id": "26CHkZbs8Tu5"
      },
      "source": [
        "## Making the Confusion Matrix"
      ]
    },
    {
      "cell_type": "code",
      "source": [
        "from sklearn.metrics import confusion_matrix, accuracy_score\n",
        "cm = confusion_matrix(y_test,y_pred)"
      ],
      "metadata": {
        "id": "Ssf9wtdQMLIg"
      },
      "execution_count": 20,
      "outputs": []
    },
    {
      "cell_type": "code",
      "source": [
        "print(cm)"
      ],
      "metadata": {
        "colab": {
          "base_uri": "https://localhost:8080/"
        },
        "id": "dp_beLSrMhtM",
        "outputId": "3bb2ecfd-de2b-4460-b77e-75924d4658ff"
      },
      "execution_count": 21,
      "outputs": [
        {
          "output_type": "stream",
          "name": "stdout",
          "text": [
            "[[65  2]\n",
            " [ 3 44]]\n"
          ]
        }
      ]
    },
    {
      "cell_type": "markdown",
      "source": [
        "#visualising the confusion matrix"
      ],
      "metadata": {
        "id": "YclsLYXJogtB"
      }
    },
    {
      "cell_type": "code",
      "source": [
        "fig, ax = plt.subplots(figsize=(7.5, 7.5))\n",
        "ax.matshow(cm, cmap=plt.cm.Greens, alpha=0.3)\n",
        "for i in range(cm.shape[0]):\n",
        "    for j in range(cm.shape[1]):\n",
        "        ax.text(x=j, y=i,s=cm[i, j], va='center', ha='center', size='xx-large')\n",
        " \n",
        "plt.xlabel('Predictions', fontsize=18)\n",
        "plt.ylabel('Actuals', fontsize=18)\n",
        "plt.title('Confusion Matrix', fontsize=18)\n",
        "plt.show()"
      ],
      "metadata": {
        "colab": {
          "base_uri": "https://localhost:8080/",
          "height": 501
        },
        "id": "klbPKAIon8PO",
        "outputId": "c7c07467-a724-419e-bd2d-9f6bd4fc6984"
      },
      "execution_count": 26,
      "outputs": [
        {
          "output_type": "display_data",
          "data": {
            "image/png": "[encoded data removed]",
            "text/plain": [
              "<Figure size 540x540 with 1 Axes>"
            ]
          },
          "metadata": {
            "needs_background": "light"
          }
        }
      ]
    },
    {
      "cell_type": "code",
      "source": [
        "accuracy_score(y_test,y_pred)"
      ],
      "metadata": {
        "colab": {
          "base_uri": "https://localhost:8080/"
        },
        "id": "sohoXVGKMkt5",
        "outputId": "f94052a9-a730-41b0-98e3-7dff2e18ac2c"
      },
      "execution_count": 23,
      "outputs": [
        {
          "output_type": "execute_result",
          "data": {
            "text/plain": [
              "0.956140350877193"
            ]
          },
          "metadata": {},
          "execution_count": 23
        }
      ]
    },
    {
      "cell_type": "markdown",
      "metadata": {
        "id": "kMErnLnu8hmb"
      },
      "source": [
        "## Computing the accuracy with k-Fold Cross Validation"
      ]
    },
    {
      "cell_type": "code",
      "source": [
        "from sklearn.model_selection import cross_val_score\n",
        "accuracies = cross_val_score(estimator=classifier,X=X_test,y=y_test,cv=10)\n"
      ],
      "metadata": {
        "id": "sYaBf7AwZ-Mw"
      },
      "execution_count": 24,
      "outputs": []
    },
    {
      "cell_type": "code",
      "source": [
        "print(\"Accuracy = {:.2f}%\".format(accuracies.mean()*100))\n",
        "print(\"Standard Deviation = {:.2f}%\".format(accuracies.std()*100))"
      ],
      "metadata": {
        "colab": {
          "base_uri": "https://localhost:8080/"
        },
        "id": "ZFZrjpDKdCvo",
        "outputId": "114f4309-1192-415a-e5ce-d788d5b8f9fb"
      },
      "execution_count": 25,
      "outputs": [
        {
          "output_type": "stream",
          "name": "stdout",
          "text": [
            "Accuracy = 98.18%\n",
            "Standard Deviation = 3.64%\n"
          ]
        }
      ]
    }
  ]
}